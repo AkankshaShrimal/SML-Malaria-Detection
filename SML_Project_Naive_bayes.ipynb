{
 "cells": [
  {
   "cell_type": "markdown",
   "metadata": {
    "heading_collapsed": true
   },
   "source": [
    "## Import statements"
   ]
  },
  {
   "cell_type": "code",
   "execution_count": 1,
   "metadata": {
    "hidden": true
   },
   "outputs": [],
   "source": [
    "import os\n",
    "import cv2\n",
    "import copy\n",
    "import random\n",
    "import numpy as np\n",
    "import pandas as pd\n",
    "import itertools\n",
    "from itertools import cycle\n",
    "import matplotlib.pyplot as plt\n",
    "from matplotlib.pyplot import figure\n",
    "from sklearn.naive_bayes import GaussianNB\n",
    "from sklearn.manifold import TSNE\n",
    "from sklearn.decomposition import TruncatedSVD\n",
    "from sklearn import metrics\n",
    "from sklearn.discriminant_analysis import LinearDiscriminantAnalysis as LDA\n",
    "from sklearn.decomposition import PCA\n",
    "from my_ml_lib import DataManipulationTools, MetricTools, PlotTools"
   ]
  },
  {
   "cell_type": "markdown",
   "metadata": {},
   "source": [
    "## Function definitions"
   ]
  },
  {
   "cell_type": "markdown",
   "metadata": {
    "heading_collapsed": true
   },
   "source": [
    "### Read dataset"
   ]
  },
  {
   "cell_type": "code",
   "execution_count": 2,
   "metadata": {
    "hidden": true
   },
   "outputs": [],
   "source": [
    "def read_images(path):\n",
    "    images = []\n",
    "\n",
    "    num1 = 32\n",
    "    num2 = 32\n",
    "    for file_name in os.listdir(path):\n",
    "        file_path = path + '/' + file_name\n",
    "        for img_name in os.listdir(file_path):\n",
    "            if not img_name.startswith('.'):\n",
    "                if img_name.endswith('.png'):\n",
    "                    img = cv2.imread(file_path + '/' + img_name)\n",
    "                    new_img = cv2.resize(img, (num2, num1))\n",
    "                    flat_img = new_img.ravel()\n",
    "                    if file_name == 'Parasitized':\n",
    "                        label = 0\n",
    "                    else:\n",
    "                        label = 1\n",
    "                    label_img = np.append(flat_img,label)\n",
    "                    images.append(label_img)\n",
    "    \n",
    "    img_arr = np.array(images)\n",
    "    return img_arr"
   ]
  },
  {
   "cell_type": "markdown",
   "metadata": {
    "heading_collapsed": true
   },
   "source": [
    "### Naive bayes"
   ]
  },
  {
   "cell_type": "code",
   "execution_count": 3,
   "metadata": {
    "hidden": true
   },
   "outputs": [],
   "source": [
    "def model(data, label, test_data):\n",
    "    m = GaussianNB()\n",
    "    m.fit(data, label)\n",
    "    p_label = m.predict(test_data)\n",
    "    prob = m.predict_proba(test_data)\n",
    "    return p_label, prob"
   ]
  },
  {
   "cell_type": "markdown",
   "metadata": {
    "heading_collapsed": true
   },
   "source": [
    "### PCA"
   ]
  },
  {
   "cell_type": "code",
   "execution_count": 4,
   "metadata": {
    "hidden": true
   },
   "outputs": [],
   "source": [
    "def pca(train_data, test_data):\n",
    "    clf = PCA(n_components=39, random_state=1)\n",
    "    new_train_data = clf.fit_transform(train_data)\n",
    "    new_test_data = clf.transform(test_data)\n",
    "    return new_train_data, new_test_data"
   ]
  },
  {
   "cell_type": "markdown",
   "metadata": {
    "heading_collapsed": true
   },
   "source": [
    "### LDA"
   ]
  },
  {
   "cell_type": "code",
   "execution_count": 5,
   "metadata": {
    "hidden": true
   },
   "outputs": [],
   "source": [
    "def lda(train_data, train_label, test_data):\n",
    "    clf = LDA(solver='eigen')  \n",
    "    new_train_data = clf.fit_transform(train_data, train_label)\n",
    "    new_test_data = clf.transform(test_data)\n",
    "    return new_train_data, new_test_data"
   ]
  },
  {
   "cell_type": "markdown",
   "metadata": {
    "heading_collapsed": true
   },
   "source": [
    "### ROC"
   ]
  },
  {
   "cell_type": "code",
   "execution_count": 6,
   "metadata": {
    "hidden": true
   },
   "outputs": [],
   "source": [
    "def plot_roc(fpr, tpr, class_name, area):\n",
    "    figure(num=None, figsize=(12, 6), dpi=80, facecolor='w', edgecolor='k')\n",
    "    \n",
    "    plt.plot(fpr,tpr)\n",
    "\n",
    "    plt.xlabel('False Positive Rate')\n",
    "    plt.ylabel('True Positive Rate')\n",
    "\n",
    "    plt.show()"
   ]
  },
  {
   "cell_type": "code",
   "execution_count": 7,
   "metadata": {
    "hidden": true
   },
   "outputs": [],
   "source": [
    "def plot_combine_roc(test_img, prob):\n",
    "    n_classes = 2\n",
    "    name_arr = ['Parasitized', 'Uninfected']\n",
    "    fpr = dict()\n",
    "    tpr = dict()\n",
    "    roc_auc = dict()\n",
    "    for i in range(n_classes):\n",
    "        fpr[i], tpr[i], _ = metrics.roc_curve(test_img[:, -1], prob[:, i])\n",
    "        roc_auc[i] = metrics.roc_auc_score(test_img[:, -1],  prob[:, i])\n",
    "\n",
    "    figure(num=None, figsize=(12, 6), dpi=80, facecolor='w', edgecolor='k')\n",
    "    colors = cycle(['darkorange', 'cornflowerblue'])\n",
    "    for i, color in zip(range(n_classes), colors):\n",
    "        plt.plot(fpr[i], tpr[i], color=color,\n",
    "                 label='ROC curve for ' + name_arr[i] + ' class (area = {1:0.2f})'\n",
    "                 ''.format(i, roc_auc[i]))\n",
    "\n",
    "    plt.xlabel('False Positive Rate')\n",
    "    plt.ylabel('True Positive Rate')\n",
    "    plt.legend(loc=\"lower right\")\n",
    "    plt.show()"
   ]
  },
  {
   "cell_type": "markdown",
   "metadata": {},
   "source": [
    "## Main calls"
   ]
  },
  {
   "cell_type": "markdown",
   "metadata": {},
   "source": [
    "### Read and split data"
   ]
  },
  {
   "cell_type": "code",
   "execution_count": null,
   "metadata": {},
   "outputs": [],
   "source": [
    "images = read_images('cell_images')"
   ]
  },
  {
   "cell_type": "code",
   "execution_count": null,
   "metadata": {},
   "outputs": [],
   "source": [
    "images.shape"
   ]
  },
  {
   "cell_type": "code",
   "execution_count": null,
   "metadata": {},
   "outputs": [],
   "source": [
    "train_img, test_img = DataManipulationTools.split_data(images, 0.9, random_state=10)"
   ]
  },
  {
   "cell_type": "code",
   "execution_count": null,
   "metadata": {},
   "outputs": [],
   "source": [
    "train_img.shape"
   ]
  },
  {
   "cell_type": "code",
   "execution_count": null,
   "metadata": {},
   "outputs": [],
   "source": [
    "test_img.shape"
   ]
  },
  {
   "cell_type": "markdown",
   "metadata": {},
   "source": [
    "### Normal naive bayes"
   ]
  },
  {
   "cell_type": "code",
   "execution_count": null,
   "metadata": {},
   "outputs": [],
   "source": [
    "labels_predicted, prob = model(train_img[:, :-1], train_img[:, -1], test_img[:, :-1])"
   ]
  },
  {
   "cell_type": "code",
   "execution_count": null,
   "metadata": {},
   "outputs": [],
   "source": [
    "acc = metrics.accuracy_score(test_img[:, -1], labels_predicted)\n",
    "print('Accuracy: ', acc)\n",
    "\n",
    "cm = metrics.confusion_matrix(test_img[:, -1], labels_predicted, labels=[0, 1])\n",
    "print('Confusion Matrix:')\n",
    "print(cm)\n",
    "\n",
    "PlotTools.confusion_matrix(cm, ['Parasitized', 'Uninfected'], title='', filename='Confusion Matrix NB', \n",
    "                           path='output/', figsize=(6,6))"
   ]
  },
  {
   "cell_type": "code",
   "execution_count": null,
   "metadata": {},
   "outputs": [],
   "source": [
    "recall_p = cm[0][0] / (cm[0][0] + cm[0][1])\n",
    "precision_p = cm[0][0] / (cm[0][0] + cm[1][0])\n",
    "print('precision', precision_p, 'recall', recall_p)"
   ]
  },
  {
   "cell_type": "code",
   "execution_count": null,
   "metadata": {},
   "outputs": [],
   "source": [
    "f1_p = 1/(0.5*((1/precision_p)+(1/recall_p)))\n",
    "print('f1', f1_p)"
   ]
  },
  {
   "cell_type": "code",
   "execution_count": null,
   "metadata": {},
   "outputs": [],
   "source": [
    "fpr0, tpr0, thresholds0 = metrics.roc_curve(test_img[:, -1], prob[:, 0])\n",
    "area0 = metrics.roc_auc_score(test_img[:, -1], prob[:, 0])\n",
    "plot_roc(fpr0, tpr0, 'Parasitized', area0)"
   ]
  },
  {
   "cell_type": "code",
   "execution_count": null,
   "metadata": {},
   "outputs": [],
   "source": [
    "fpr1, tpr1, thresholds1 = metrics.roc_curve(test_img[:, -1], prob[:, 1])\n",
    "area1 = metrics.roc_auc_score(test_img[:, -1], prob[:, 1])\n",
    "plot_roc(fpr1, tpr1, 'Uninfected', area1)"
   ]
  },
  {
   "cell_type": "code",
   "execution_count": null,
   "metadata": {},
   "outputs": [],
   "source": [
    "plot_combine_roc(test_img, prob)"
   ]
  },
  {
   "cell_type": "markdown",
   "metadata": {},
   "source": [
    "### Normal naive bayes K- fold"
   ]
  },
  {
   "cell_type": "code",
   "execution_count": null,
   "metadata": {},
   "outputs": [],
   "source": [
    "val_accuracies = []\n",
    "best_model = None\n",
    "max_acc = -np.inf\n",
    "\n",
    "for i, (train_fold, val_fold) in enumerate(DataManipulationTools.k_folds(train_img, k=5), start=1):\n",
    "    clf = GaussianNB()\n",
    "    clf.fit(train_fold[:, :-1], train_fold[:,-1])\n",
    "\n",
    "    val_y_hat = clf.predict(val_fold[:, :-1])\n",
    "    val_accuracies.append(MetricTools.accuracy(val_fold[:, -1], val_y_hat))\n",
    "    \n",
    "    print(f'{i}-Fold Accuracy: {np.around(val_accuracies[-1] * 100, 2)}%')\n",
    "    \n",
    "    if val_accuracies[-1] > max_acc:\n",
    "        print('Validation accuracy increased, Updating best model...')\n",
    "        best_model = clf\n",
    "        max_acc = val_accuracies[-1]"
   ]
  },
  {
   "cell_type": "code",
   "execution_count": null,
   "metadata": {},
   "outputs": [],
   "source": [
    "PlotTools.table(np.around(np.array(val_accuracies) * 100, 2), \n",
    "                     [f'Fold {i}' for i in range(1,6)], ['Accuracy %'], 'Complete: 5-Fold Cross Validation Accuracies',\n",
    "                     path='output', figsize=(5,2), filename='1 - Complete: 5-Fold Cross Validation Accuracies')"
   ]
  },
  {
   "cell_type": "code",
   "execution_count": null,
   "metadata": {},
   "outputs": [],
   "source": [
    "PlotTools.table([np.around(np.mean(val_accuracies), 2), np.around(np.std(val_accuracies), 4)],\n",
    "                     ['Mean Accuracy', 'Standard Deviation'], ['Statistics'], 'PCA: 5-Fold Mean & Std Dev',\n",
    "                     path='output', figsize=(5,2), filename='2 - PCA: 5-Fold Mean & Std Dev')"
   ]
  },
  {
   "cell_type": "markdown",
   "metadata": {},
   "source": [
    "### PCA"
   ]
  },
  {
   "cell_type": "code",
   "execution_count": null,
   "metadata": {
    "scrolled": true
   },
   "outputs": [],
   "source": [
    "pca_train_images, pca_test_images = pca(train_img[:, :-1], test_img[:, :-1])"
   ]
  },
  {
   "cell_type": "code",
   "execution_count": null,
   "metadata": {},
   "outputs": [],
   "source": [
    "pca_train_img = np.concatenate((pca_train_images, train_img[:, -1].reshape(train_img[:, -1].shape[0], 1)), axis=1)\n",
    "pca_test_img = np.concatenate((pca_test_images, test_img[:, -1].reshape(test_img[:, -1].shape[0], 1)), axis=1)"
   ]
  },
  {
   "cell_type": "code",
   "execution_count": null,
   "metadata": {},
   "outputs": [],
   "source": [
    "pca_train_img.shape"
   ]
  },
  {
   "cell_type": "code",
   "execution_count": null,
   "metadata": {},
   "outputs": [],
   "source": [
    "pca_labels_predicted, pca_prob = model(pca_train_img[:, :-1], pca_train_img[:, -1], pca_test_img[:, :-1])"
   ]
  },
  {
   "cell_type": "code",
   "execution_count": null,
   "metadata": {},
   "outputs": [],
   "source": [
    "pca_acc = metrics.accuracy_score(pca_test_img[:, -1], pca_labels_predicted)\n",
    "print('Accuracy: ', pca_acc)\n",
    "\n",
    "pca_cm = metrics.confusion_matrix(pca_test_img[:, -1], pca_labels_predicted, labels=[0, 1])\n",
    "print('Confusion Matrix:')\n",
    "print(pca_cm)\n",
    "\n",
    "PlotTools.confusion_matrix(pca_cm, ['Parasitized', 'Uninfected'], title='', filename='Confusion Matrix PCA NB', \n",
    "                           path='output/', figsize=(6,6))"
   ]
  },
  {
   "cell_type": "code",
   "execution_count": null,
   "metadata": {},
   "outputs": [],
   "source": [
    "recall_pp = pca_cm[0][0] / (pca_cm[0][0] + pca_cm[0][1])\n",
    "precision_pp = pca_cm[0][0] / (pca_cm[0][0] + pca_cm[1][0])\n",
    "print('precision', precision_pp, 'recall', recall_pp)"
   ]
  },
  {
   "cell_type": "code",
   "execution_count": null,
   "metadata": {},
   "outputs": [],
   "source": [
    "f1_pp = 1/(0.5*((1/precision_pp)+(1/recall_pp)))\n",
    "print('f1', f1_pp)"
   ]
  },
  {
   "cell_type": "code",
   "execution_count": null,
   "metadata": {},
   "outputs": [],
   "source": [
    "pca_fpr0, pca_tpr0, pca_thresholds0 = metrics.roc_curve(pca_test_img[:, -1], pca_prob[:, 0])\n",
    "pca_area0 = metrics.roc_auc_score(pca_test_img[:, -1], pca_prob[:, 0])\n",
    "plot_roc(pca_fpr0, pca_tpr0, 'Parasitized', pca_area0)"
   ]
  },
  {
   "cell_type": "code",
   "execution_count": null,
   "metadata": {},
   "outputs": [],
   "source": [
    "pca_fpr1, pca_tpr1, pca_thresholds1 = metrics.roc_curve(pca_test_img[:, -1], pca_prob[:, 1])\n",
    "pca_area1 = metrics.roc_auc_score(pca_test_img[:, -1], pca_prob[:, 1])\n",
    "plot_roc(pca_fpr1, pca_tpr1, 'Uninfected', pca_area1)"
   ]
  },
  {
   "cell_type": "code",
   "execution_count": null,
   "metadata": {},
   "outputs": [],
   "source": [
    "plot_combine_roc(pca_test_img, pca_prob)"
   ]
  },
  {
   "cell_type": "markdown",
   "metadata": {},
   "source": [
    "### LDA"
   ]
  },
  {
   "cell_type": "code",
   "execution_count": null,
   "metadata": {},
   "outputs": [],
   "source": [
    "lda_train_images, lda_test_images = lda(train_img[:, :-1], train_img[:, -1], test_img[:, :-1])"
   ]
  },
  {
   "cell_type": "code",
   "execution_count": null,
   "metadata": {},
   "outputs": [],
   "source": [
    "lda_train_img = np.concatenate((lda_train_images, train_img[:, -1].reshape(train_img[:, -1].shape[0], 1)), axis=1)\n",
    "lda_test_img = np.concatenate((lda_test_images, test_img[:, -1].reshape(test_img[:, -1].shape[0], 1)), axis=1)"
   ]
  },
  {
   "cell_type": "code",
   "execution_count": null,
   "metadata": {},
   "outputs": [],
   "source": [
    "lda_train_img.shape"
   ]
  },
  {
   "cell_type": "code",
   "execution_count": null,
   "metadata": {
    "scrolled": true
   },
   "outputs": [],
   "source": [
    "val = 0\n",
    "l1 = []\n",
    "l2 = []\n",
    "arr = ['Uninfected', 'Parasitized']\n",
    "for i in range(lda_train_img.shape[0]//10):\n",
    "    if int(lda_train_img[i][1]) == 0:\n",
    "        l1.append(lda_train_img[i][0])\n",
    "    else:\n",
    "        l2.append(lda_train_img[i][0])\n",
    "\n",
    "for i in range(lda_train_img.shape[0]-1,lda_train_img.shape[0]-lda_train_img.shape[0]//10,-1):\n",
    "    if int(lda_train_img[i][1]) == 0:\n",
    "        l1.append(lda_train_img[i][0])\n",
    "    else:\n",
    "        l2.append(lda_train_img[i][0])\n",
    "\n",
    "l11 = np.ones((len(l1)))\n",
    "l22 = np.ones((len(l2)))\n",
    "\n",
    "plt.plot(l1, l11, c='g')\n",
    "plt.plot(l2, l22, c='r')\n",
    "plt.legend(arr)\n",
    "plt.show()"
   ]
  },
  {
   "cell_type": "code",
   "execution_count": null,
   "metadata": {},
   "outputs": [],
   "source": [
    "max_p = np.max(l2)\n",
    "max_u = np.max(l1)\n",
    "min_p = np.min(l2)\n",
    "min_u = np.min(l1)\n",
    "print('p max', max_p)\n",
    "print('p min', min_p)\n",
    "print('u max', max_u)\n",
    "print('u min', min_u)"
   ]
  },
  {
   "cell_type": "code",
   "execution_count": null,
   "metadata": {},
   "outputs": [],
   "source": [
    "mean_p = np.mean(l2)\n",
    "mean_u = np.mean(l1)\n",
    "sd_p = np.std(l2)\n",
    "sd_u = np.std(l1)\n",
    "print('p mean', mean_p)\n",
    "print('p sd', sd_p)\n",
    "print('u mean', mean_u)\n",
    "print('u sd', sd_u)"
   ]
  },
  {
   "cell_type": "code",
   "execution_count": null,
   "metadata": {},
   "outputs": [],
   "source": []
  },
  {
   "cell_type": "code",
   "execution_count": null,
   "metadata": {},
   "outputs": [],
   "source": [
    "lda_labels_predicted, lda_prob = model(lda_train_img[:, :-1], lda_train_img[:, -1], lda_test_img[:, :-1])"
   ]
  },
  {
   "cell_type": "code",
   "execution_count": null,
   "metadata": {},
   "outputs": [],
   "source": [
    "lda_acc = metrics.accuracy_score(lda_test_img[:, -1], lda_labels_predicted)\n",
    "print('Accuracy: ', lda_acc)\n",
    "\n",
    "lda_cm = metrics.confusion_matrix(lda_test_img[:, -1], lda_labels_predicted, labels=[0, 1])\n",
    "print('Confusion Matrix:')\n",
    "print(lda_cm)\n",
    "\n",
    "PlotTools.confusion_matrix(lda_cm, ['Parasitized', 'Uninfected'], title='', filename='Confusion Matrix LDA NB', \n",
    "                           path='output/', figsize=(6,6))"
   ]
  },
  {
   "cell_type": "code",
   "execution_count": null,
   "metadata": {},
   "outputs": [],
   "source": [
    "recall_pl = lda_cm[0][0] / (lda_cm[0][0] + lda_cm[0][1])\n",
    "precision_pl = lda_cm[0][0] / (lda_cm[0][0] + lda_cm[1][0])\n",
    "print('precision', precision_pl, 'recall', recall_pl)"
   ]
  },
  {
   "cell_type": "code",
   "execution_count": null,
   "metadata": {},
   "outputs": [],
   "source": [
    "f1_pl = 1/(0.5*((1/precision_pl)+(1/recall_pl)))\n",
    "print('f1', f1_pl)"
   ]
  },
  {
   "cell_type": "code",
   "execution_count": null,
   "metadata": {},
   "outputs": [],
   "source": [
    "lda_fpr0, lda_tpr0, lda_thresholds0 = metrics.roc_curve(lda_test_img[:, -1], lda_prob[:, 0])\n",
    "lda_area0 = metrics.roc_auc_score(lda_test_img[:, -1], lda_prob[:, 0])\n",
    "plot_roc(lda_fpr0, lda_tpr0, 'Parasitized', lda_area0)"
   ]
  },
  {
   "cell_type": "code",
   "execution_count": null,
   "metadata": {},
   "outputs": [],
   "source": [
    "lda_fpr1, lda_tpr1, lda_thresholds1 = metrics.roc_curve(lda_test_img[:, -1], lda_prob[:, 1])\n",
    "lda_area1 = metrics.roc_auc_score(lda_test_img[:, -1], lda_prob[:, 1])\n",
    "plot_roc(lda_fpr1, lda_tpr1, 'Uninfected', lda_area1)"
   ]
  },
  {
   "cell_type": "code",
   "execution_count": null,
   "metadata": {},
   "outputs": [],
   "source": [
    "plot_combine_roc(lda_test_img, lda_prob)"
   ]
  },
  {
   "cell_type": "code",
   "execution_count": null,
   "metadata": {},
   "outputs": [],
   "source": []
  }
 ],
 "metadata": {
  "kernelspec": {
   "display_name": "Python 3",
   "language": "python",
   "name": "python3"
  },
  "language_info": {
   "codemirror_mode": {
    "name": "ipython",
    "version": 3
   },
   "file_extension": ".py",
   "mimetype": "text/x-python",
   "name": "python",
   "nbconvert_exporter": "python",
   "pygments_lexer": "ipython3",
   "version": "3.6.6"
  }
 },
 "nbformat": 4,
 "nbformat_minor": 2
}
